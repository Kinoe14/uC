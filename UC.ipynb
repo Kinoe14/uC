{
  "nbformat": 4,
  "nbformat_minor": 0,
  "metadata": {
    "colab": {
      "provenance": []
    },
    "kernelspec": {
      "name": "python3",
      "display_name": "Python 3"
    },
    "language_info": {
      "name": "python"
    }
  },
  "cells": [
    {
      "cell_type": "code",
      "source": [
        "import array\n",
        "import numpy as np\n",
        "\n",
        "# Crear un arreglo con 9 elementos\n",
        "elementos = array.array('f', [1, 2, 3, 4, 5, 6, 7, 8, 9])\n",
        "\n",
        "# Extraer los elementos para formar la matriz sin ciclos ni funciones adicionales\n",
        "fila1 = elementos[:3]\n",
        "fila2 = elementos[3:6]\n",
        "fila3 = elementos[6:]\n",
        "\n",
        "# Crear la matriz a partir de las filas\n",
        "matriz = np.array([fila1, fila2, fila3])\n",
        "\n",
        "matriz\n",
        "\n"
      ],
      "metadata": {
        "colab": {
          "base_uri": "https://localhost:8080/"
        },
        "id": "q5an-XnJw-hE",
        "outputId": "cec1f4bd-f592-4710-f3b5-a609385d80fa"
      },
      "execution_count": 1,
      "outputs": [
        {
          "output_type": "execute_result",
          "data": {
            "text/plain": [
              "array([[1., 2., 3.],\n",
              "       [4., 5., 6.],\n",
              "       [7., 8., 9.]], dtype=float32)"
            ]
          },
          "metadata": {},
          "execution_count": 1
        }
      ]
    },
    {
      "cell_type": "code",
      "source": [
        "def elem(A, i, j):\n",
        "    # Calcula el índice correspondiente en el arreglo 1D\n",
        "    index = i * 3 + j\n",
        "    return A[index]\n",
        "\n",
        "\n",
        "# Obtener el elemento en la posición (1, 2) (fila 1, columna 2)\n",
        "fila = 2\n",
        "columna = 2\n",
        "elemento = elem(elementos, fila, columna)\n",
        "\n",
        "print(f\"El elemento en la posición ({fila}, {columna}) es: {elemento}\")\n"
      ],
      "metadata": {
        "colab": {
          "base_uri": "https://localhost:8080/"
        },
        "id": "lX_QtKru3Yh1",
        "outputId": "79adda68-2929-4001-dafe-24c909bea586"
      },
      "execution_count": 3,
      "outputs": [
        {
          "output_type": "stream",
          "name": "stdout",
          "text": [
            "El elemento en la posición (2, 2) es: 9\n"
          ]
        }
      ]
    },
    {
      "cell_type": "code",
      "source": [
        "# Obtener un elemento de la matriz\n",
        "# Renglón 0 y columna 0\n",
        "# Recuerde que comienza desde cero\n",
        "matriz[1,0]"
      ],
      "metadata": {
        "colab": {
          "base_uri": "https://localhost:8080/"
        },
        "id": "Zr5ObeEveF5n",
        "outputId": "77b2b4eb-adda-4803-e3fe-68341c399653"
      },
      "execution_count": 4,
      "outputs": [
        {
          "output_type": "execute_result",
          "data": {
            "text/plain": [
              "4"
            ]
          },
          "metadata": {},
          "execution_count": 4
        }
      ]
    },
    {
      "cell_type": "code",
      "source": [
        "# Intercambiar el renglón 0 con el renglón 1,\n",
        "# R0 <-> R1\n",
        "\n",
        "matriz[[0,1],:] = matriz[[1,0],:]\n",
        "matriz"
      ],
      "metadata": {
        "colab": {
          "base_uri": "https://localhost:8080/"
        },
        "id": "yLmGTpiqnhMj",
        "outputId": "87208b46-c378-4b3e-aa02-08a109dc5a71"
      },
      "execution_count": 5,
      "outputs": [
        {
          "output_type": "execute_result",
          "data": {
            "text/plain": [
              "array([[4, 5, 6],\n",
              "       [1, 2, 3],\n",
              "       [7, 8, 9]], dtype=int32)"
            ]
          },
          "metadata": {},
          "execution_count": 5
        }
      ]
    },
    {
      "cell_type": "code",
      "source": [
        "# Multiplicar el renglón 0  por un 1/2,\n",
        "# (1/2)R0 -> R0\n",
        "\n",
        "matriz[0,:] *= 1/2   #  B[0,:] = B[0,:]*1/2\n",
        "matriz"
      ],
      "metadata": {
        "colab": {
          "base_uri": "https://localhost:8080/"
        },
        "id": "Bo71uXDvv6gx",
        "outputId": "e8e3319a-d606-4a78-d6d1-f60e14e005e8"
      },
      "execution_count": 3,
      "outputs": [
        {
          "output_type": "execute_result",
          "data": {
            "text/plain": [
              "array([[1., 2., 3.],\n",
              "       [4., 5., 6.],\n",
              "       [7., 8., 9.]], dtype=float32)"
            ]
          },
          "metadata": {},
          "execution_count": 3
        }
      ]
    },
    {
      "cell_type": "code",
      "source": [
        "# Suma (-4) veces el renglón 0 al renglón 2,\n",
        "# -4R0 + R2 -> R2\n",
        "\n",
        "matriz[2,:] += -4*matriz[0,:]  #  B[2,:] = B[2,:] + (-4)*B[0,:]\n",
        "matriz"
      ],
      "metadata": {
        "colab": {
          "base_uri": "https://localhost:8080/"
        },
        "id": "3o3x_y5PwF_H",
        "outputId": "d76ee265-fd32-41ce-8e01-97f774b2c7bf"
      },
      "execution_count": 7,
      "outputs": [
        {
          "output_type": "execute_result",
          "data": {
            "text/plain": [
              "array([[  8,  10,  12],\n",
              "       [  1,   2,   3],\n",
              "       [-25, -32, -39]], dtype=int32)"
            ]
          },
          "metadata": {},
          "execution_count": 7
        }
      ]
    }
  ]
}